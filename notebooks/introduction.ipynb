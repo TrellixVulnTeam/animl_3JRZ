{
 "cells": [
  {
   "cell_type": "markdown",
   "metadata": {},
   "source": [
    "## Introduction"
   ]
  },
  {
   "cell_type": "markdown",
   "metadata": {},
   "source": [
    "### Why Maching Learning?\n",
    "\n",
    "* Definition: A system improves some performance measure P, on a task, T after some experience E.\n",
    "* A machine learning system can be:\n",
    "  * More compact\n",
    "  * Easier to maintain\n",
    "  * More accurate\n",
    "* A properly automated process can let the system automatically adapt to change.\n",
    "* Machine learning can shine where a traditional approach might be too complicated or where there is no good traditional solution\n"
   ]
  },
  {
   "cell_type": "markdown",
   "metadata": {},
   "source": [
    "### Supervised vs Unsupervised ( vs Semi-supervised vs Reinforcement Learning)"
   ]
  },
  {
   "cell_type": "markdown",
   "metadata": {},
   "source": [
    "### Batch Learning vs Online Learning"
   ]
  },
  {
   "cell_type": "markdown",
   "metadata": {},
   "source": [
    "### Instance Based vs Model Based Learning"
   ]
  },
  {
   "cell_type": "markdown",
   "metadata": {},
   "source": [
    "### Machine Learning Challenges - Data\n",
    "\n",
    "* There must be enough training data.\n",
    "* The training data must high _quality_.\n",
    "* The training data must be representative. \n"
   ]
  },
  {
   "cell_type": "markdown",
   "metadata": {},
   "source": [
    "### Machine Learning Challenges - Models\n",
    "\n",
    "* A model must be complex enough to fit the data, not underfit.\n",
    "* A model must be simple enough to generalise well to new data, not overfit.\n",
    "* It is often best to try a few models and compare the results.\n"
   ]
  },
  {
   "cell_type": "markdown",
   "metadata": {},
   "source": [
    "### Testing and Validation\n"
   ]
  },
  {
   "cell_type": "markdown",
   "metadata": {},
   "source": [
    "It is important to test a models performance on some new data. A new dataset that was not used for training the model is called a test set, it can be used to measure the performance of a model.\n",
    "\n",
    "Hyperparameters can be _tuned_ by training the model and comparing performance on a test set, selecting the best performing value. This may cause overfitting of the model to the test set and so a validation set can be used to measure the performance. A validation set is a dataset not used for training or testing the model.\n"
   ]
  }
 ],
 "metadata": {
  "kernelspec": {
   "display_name": "Python 3",
   "language": "python",
   "name": "python3"
  },
  "language_info": {
   "codemirror_mode": {
    "name": "ipython",
    "version": 3
   },
   "file_extension": ".py",
   "mimetype": "text/x-python",
   "name": "python",
   "nbconvert_exporter": "python",
   "pygments_lexer": "ipython3",
   "version": "3.6.8"
  }
 },
 "nbformat": 4,
 "nbformat_minor": 2
}
